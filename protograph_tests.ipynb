{
 "cells": [
  {
   "cell_type": "code",
   "execution_count": 19,
   "metadata": {},
   "outputs": [
    {
     "name": "stdout",
     "output_type": "stream",
     "text": [
      "The autoreload extension is already loaded. To reload it, use:\n",
      "  %reload_ext autoreload\n"
     ]
    }
   ],
   "source": [
    "%load_ext autoreload\n",
    "%autoreload 2\n",
    "import numpy as np\n",
    "import ldpc.protograph as pt"
   ]
  },
  {
   "cell_type": "markdown",
   "metadata": {},
   "source": [
    "# Protograph class"
   ]
  },
  {
   "cell_type": "markdown",
   "metadata": {},
   "source": [
    "## Ring of circulants"
   ]
  },
  {
   "cell_type": "code",
   "execution_count": 20,
   "metadata": {},
   "outputs": [
    {
     "data": {
      "text/plain": [
       "protograph.ring_of_circulants_f2((1))"
      ]
     },
     "execution_count": 20,
     "metadata": {},
     "output_type": "execute_result"
    }
   ],
   "source": [
    "a=pt.ring_of_circulants_f2([1])\n",
    "a"
   ]
  },
  {
   "cell_type": "code",
   "execution_count": 21,
   "metadata": {},
   "outputs": [
    {
     "data": {
      "text/plain": [
       "protograph.ring_of_circulants_f2((-1))"
      ]
     },
     "execution_count": 21,
     "metadata": {},
     "output_type": "execute_result"
    }
   ],
   "source": [
    "a.T #Transpose"
   ]
  },
  {
   "cell_type": "code",
   "execution_count": 22,
   "metadata": {},
   "outputs": [
    {
     "data": {
      "text/plain": [
       "protograph.ring_of_circulants_f2((1,-1))"
      ]
     },
     "execution_count": 22,
     "metadata": {},
     "output_type": "execute_result"
    }
   ],
   "source": [
    "a+a.T #addition over the ring"
   ]
  },
  {
   "cell_type": "code",
   "execution_count": 23,
   "metadata": {},
   "outputs": [
    {
     "data": {
      "text/plain": [
       "protograph.ring_of_circulants_f2((2))"
      ]
     },
     "execution_count": 23,
     "metadata": {},
     "output_type": "execute_result"
    }
   ],
   "source": [
    "a*a #multplication over the ring"
   ]
  },
  {
   "cell_type": "code",
   "execution_count": 24,
   "metadata": {},
   "outputs": [
    {
     "data": {
      "text/plain": [
       "array([[0, 1, 1],\n",
       "       [1, 0, 1],\n",
       "       [1, 1, 0]])"
      ]
     },
     "execution_count": 24,
     "metadata": {},
     "output_type": "execute_result"
    }
   ],
   "source": [
    "(a+a.T).to_binary(lift_parameter=3) #binary mapping"
   ]
  },
  {
   "cell_type": "code",
   "execution_count": 25,
   "metadata": {},
   "outputs": [
    {
     "data": {
      "text/plain": [
       "array([[1, 0, 1],\n",
       "       [1, 1, 0],\n",
       "       [0, 1, 1]])"
      ]
     },
     "execution_count": 25,
     "metadata": {},
     "output_type": "execute_result"
    }
   ],
   "source": [
    "a=pt.array([[[0,1]]])\n",
    "a.T.to_binary(3)\n"
   ]
  },
  {
   "cell_type": "markdown",
   "metadata": {},
   "source": [
    "## Protograph\n",
    "\n",
    "A protograph is a matrix where each element is from the ring of circulants"
   ]
  },
  {
   "cell_type": "code",
   "execution_count": 26,
   "metadata": {},
   "outputs": [
    {
     "name": "stdout",
     "output_type": "stream",
     "text": [
      "protograph.array([[(0,1),(0)]])\n",
      "[[(0,1) (0)]]\n"
     ]
    }
   ],
   "source": [
    "proto_a=pt.array([[(0,1),(0)]])\n",
    "print(repr(proto_a))\n",
    "print(proto_a)"
   ]
  },
  {
   "cell_type": "code",
   "execution_count": 27,
   "metadata": {},
   "outputs": [
    {
     "name": "stdout",
     "output_type": "stream",
     "text": [
      "[[() () () ()]\n",
      " [() () () ()]\n",
      " [() () () ()]]\n"
     ]
    }
   ],
   "source": [
    "print(pt.zeros((3,4))) #zero element"
   ]
  },
  {
   "cell_type": "code",
   "execution_count": 28,
   "metadata": {},
   "outputs": [
    {
     "name": "stdout",
     "output_type": "stream",
     "text": [
      "[[(0) () () ()]\n",
      " [() (0) () ()]\n",
      " [() () (0) ()]\n",
      " [() () () (0)]]\n"
     ]
    }
   ],
   "source": [
    "print(pt.identity(4)) #identity element"
   ]
  },
  {
   "cell_type": "code",
   "execution_count": 29,
   "metadata": {},
   "outputs": [
    {
     "name": "stdout",
     "output_type": "stream",
     "text": [
      "[[(0) () ()]\n",
      " [() (0) ()]\n",
      " [() () (0)]]\n",
      "[[() () ()]\n",
      " [() () ()]\n",
      " [() () ()]]\n"
     ]
    }
   ],
   "source": [
    "a=pt.identity(3)\n",
    "b=pt.zeros(3)\n",
    "print(a@a) #idenity multiplicaiton\n",
    "print(a@b) #zero multiplication"
   ]
  },
  {
   "cell_type": "code",
   "execution_count": 30,
   "metadata": {},
   "outputs": [
    {
     "name": "stdout",
     "output_type": "stream",
     "text": [
      "[[(0) () () () () () () () ()]\n",
      " [() (0) () () () () () () ()]\n",
      " [() () (0) () () () () () ()]\n",
      " [() () () (0) () () () () ()]\n",
      " [() () () () (0) () () () ()]\n",
      " [() () () () () (0) () () ()]\n",
      " [() () () () () () (0) () ()]\n",
      " [() () () () () () () (0) ()]\n",
      " [() () () () () () () () (0)]]\n"
     ]
    }
   ],
   "source": [
    "print(pt.kron(a,a))"
   ]
  },
  {
   "cell_type": "code",
   "execution_count": 31,
   "metadata": {},
   "outputs": [
    {
     "name": "stdout",
     "output_type": "stream",
     "text": [
      "[[() () () () () () () () ()]\n",
      " [() () () () () () () () ()]\n",
      " [() () () () () () () () ()]\n",
      " [() () () () () () () () ()]\n",
      " [() () () () () () () () ()]\n",
      " [() () () () () () () () ()]\n",
      " [() () () () () () () () ()]\n",
      " [() () () () () () () () ()]\n",
      " [() () () () () () () () ()]]\n"
     ]
    }
   ],
   "source": [
    "print(pt.kron(a,b))"
   ]
  },
  {
   "cell_type": "code",
   "execution_count": 32,
   "metadata": {},
   "outputs": [
    {
     "name": "stdout",
     "output_type": "stream",
     "text": [
      "[[(-3) (-4)]\n",
      " [(-2) (-3)]]\n"
     ]
    }
   ],
   "source": [
    "a=pt.zeros(2)\n",
    "repr(a)\n",
    "a=pt.array([[(3),(2)],[(4),(3)]])\n",
    "print(a.T) #transpose"
   ]
  },
  {
   "cell_type": "code",
   "execution_count": 33,
   "metadata": {},
   "outputs": [
    {
     "name": "stdout",
     "output_type": "stream",
     "text": [
      "[[(-3) (-4) (-4) (-5) (-4) (-5) (-5) (-6)]\n",
      " [(-2) (-3) (-3) (-4) (-3) (-4) (-4) (-5)]\n",
      " [(-2) (-3) (-3) (-4) (-3) (-4) (-4) (-5)]\n",
      " [(-1) (-2) (-2) (-3) (-2) (-3) (-3) (-4)]\n",
      " [(-2) (-3) (-3) (-4) (-3) (-4) (-4) (-5)]\n",
      " [(-1) (-2) (-2) (-3) (-2) (-3) (-3) (-4)]\n",
      " [(-1) (-2) (-2) (-3) (-2) (-3) (-3) (-4)]\n",
      " [(0) (-1) (-1) (-2) (-1) (-2) (-2) (-3)]]\n"
     ]
    }
   ],
   "source": [
    "print(pt.kron(a,a.T,a.T))"
   ]
  },
  {
   "cell_type": "markdown",
   "metadata": {},
   "source": [
    "## Lifted product codes"
   ]
  },
  {
   "cell_type": "code",
   "execution_count": 34,
   "metadata": {},
   "outputs": [],
   "source": [
    "from bposd.css import css_code\n",
    "\n",
    "def I(n):\n",
    "    return pt.identity(n)\n",
    "\n",
    "class lifted_hgp(css_code):\n",
    "\n",
    "    def __init__(self,lift_parameter,a,b=None):\n",
    "\n",
    "        '''\n",
    "        Generates the lifted hypergraph product of the protographs a and b\n",
    "        '''\n",
    "        self.a=a\n",
    "\n",
    "        self.a_m,self.a_n=self.a.shape\n",
    "\n",
    "        if b is None:\n",
    "            self.b=pt.copy(self.a)\n",
    "        else:\n",
    "            self.b=b\n",
    "        \n",
    "        self.b_m,self.b_n=self.b.shape\n",
    "\n",
    "        self.hx1_proto=pt.kron(self.a,I(self.b_n))\n",
    "        self.hx2_proto=pt.kron(I(self.a_m),self.b.T)\n",
    "        self.hx_proto=pt.hstack([self.hx1_proto,self.hx2_proto])\n",
    "\n",
    "        self.hz1_proto=pt.kron(I(self.a_n),self.b)\n",
    "        self.hz2_proto=pt.kron(self.a.T,I(self.b_m))\n",
    "        self.hz_proto=pt.hstack([self.hz1_proto,self.hz2_proto])\n",
    "\n",
    "        super().__init__(self.hx_proto.to_binary(lift_parameter),self.hz_proto.to_binary(lift_parameter))"
   ]
  },
  {
   "cell_type": "code",
   "execution_count": 35,
   "metadata": {},
   "outputs": [
    {
     "name": "stdout",
     "output_type": "stream",
     "text": [
      "<Unnamed CSS code>, (2,4)-[[840,2,nan]]\n",
      " -Block dimensions: Pass\n",
      " -PCMs commute hz@hx.T==0: Pass\n",
      " -PCMs commute hx@hz.T==0: Pass\n",
      " -lx \\in ker{hz} AND lz \\in ker{hx}: Pass\n",
      " -lx and lz anticommute: Pass\n",
      " -<Unnamed CSS code> is a valid CSS code w/ params (2,4)-[[840,2,nan]]\n"
     ]
    },
    {
     "data": {
      "text/plain": [
       "True"
      ]
     },
     "execution_count": 35,
     "metadata": {},
     "output_type": "execute_result"
    }
   ],
   "source": [
    "from lifted_hgp import lifted_hgp\n",
    "\n",
    "d=21\n",
    "\n",
    "a=pt.array([[(0,1)]])\n",
    "b=pt.array([[(0,d)]])\n",
    "\n",
    "qcode=lifted_hgp(d*(d-1),a,b)\n",
    "\n",
    "qcode.test()"
   ]
  },
  {
   "cell_type": "code",
   "execution_count": 36,
   "metadata": {},
   "outputs": [
    {
     "name": "stdout",
     "output_type": "stream",
     "text": [
      "<Unnamed CSS code>, (4,8)-[[416,18,nan]]\n",
      " -Block dimensions: Pass\n",
      " -PCMs commute hz@hx.T==0: Pass\n",
      " -PCMs commute hx@hz.T==0: Pass\n",
      " -lx \\in ker{hz} AND lz \\in ker{hx}: Pass\n",
      " -lx and lz anticommute: Pass\n",
      " -<Unnamed CSS code> is a valid CSS code w/ params (4,8)-[[416,18,nan]]\n"
     ]
    }
   ],
   "source": [
    "def lpc1():\n",
    "    proto_a=pt.array([\n",
    "        [(0), (11), (7), (12)],\n",
    "        [(1), (8), (1), (8)],\n",
    "        [(11), (0), (4), (8)],\n",
    "        [(6), (2), (4), (12)]\n",
    "    ])\n",
    "    return lifted_hgp(13,proto_a)\n",
    "\n",
    "qcode=lpc1()\n",
    "qcode.canonical_logicals()\n",
    "qcode.test()\n",
    "\n",
    "#Test to see whether the PCMS are the same as with the old version of the code\n",
    "hx=np.loadtxt(\"hx.txt\").astype(int)\n",
    "hz=np.loadtxt(\"hz.txt\").astype(int)\n",
    "assert np.array_equal(qcode.hx,hx)\n",
    "assert np.array_equal(qcode.hz,hz)"
   ]
  },
  {
   "cell_type": "code",
   "execution_count": null,
   "metadata": {},
   "outputs": [],
   "source": []
  }
 ],
 "metadata": {
  "interpreter": {
   "hash": "c00df55c54b9b596b40b790826eb03966dd1b9ea2eed7d07651f2f589855ec30"
  },
  "kernelspec": {
   "display_name": "Python 3.7.11 64-bit ('ldpc': conda)",
   "language": "python",
   "name": "python3"
  },
  "language_info": {
   "codemirror_mode": {
    "name": "ipython",
    "version": 3
   },
   "file_extension": ".py",
   "mimetype": "text/x-python",
   "name": "python",
   "nbconvert_exporter": "python",
   "pygments_lexer": "ipython3",
   "version": "3.7.11"
  },
  "orig_nbformat": 4
 },
 "nbformat": 4,
 "nbformat_minor": 2
}
