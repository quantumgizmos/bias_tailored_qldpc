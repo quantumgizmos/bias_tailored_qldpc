{
 "cells": [
  {
   "cell_type": "code",
   "execution_count": 146,
   "metadata": {},
   "outputs": [
    {
     "name": "stdout",
     "output_type": "stream",
     "text": [
      "The autoreload extension is already loaded. To reload it, use:\n",
      "  %reload_ext autoreload\n"
     ]
    }
   ],
   "source": [
    "%load_ext autoreload\n",
    "%autoreload 2\n",
    "import numpy as np\n",
    "import protograph as pt"
   ]
  },
  {
   "cell_type": "code",
   "execution_count": 152,
   "metadata": {},
   "outputs": [
    {
     "data": {
      "text/plain": [
       "array([[1, 0, 0],\n",
       "       [0, 1, 0],\n",
       "       [0, 0, 1]])"
      ]
     },
     "execution_count": 152,
     "metadata": {},
     "output_type": "execute_result"
    }
   ],
   "source": [
    "a=pt.ring_of_circulants_f2([1])\n",
    "b=pt.ring_of_circulants_f2([-1])\n",
    "(a*b).to_binary(3)"
   ]
  },
  {
   "cell_type": "code",
   "execution_count": 150,
   "metadata": {},
   "outputs": [
    {
     "data": {
      "text/plain": [
       "protograph.array([[(),(),(),()],[(),(),(),()],[(),(),(),()],[(),(),(),()]])"
      ]
     },
     "execution_count": 150,
     "metadata": {},
     "output_type": "execute_result"
    }
   ],
   "source": [
    "a=np.array([[[0,1]]])\n",
    "a.shape\n",
    "\n",
    "a=pt.ring_of_circulants_f2([1])\n",
    "b=pt.ring_of_circulants_f2([-1])\n",
    "a*b\n",
    "\n",
    "pt.zeros(4)"
   ]
  },
  {
   "cell_type": "code",
   "execution_count": 149,
   "metadata": {},
   "outputs": [
    {
     "data": {
      "text/plain": [
       "protograph.array([[(),(),(),()],[(),(),(),()],[(),(),(),()],[(),(),(),()]])"
      ]
     },
     "execution_count": 149,
     "metadata": {},
     "output_type": "execute_result"
    }
   ],
   "source": [
    "a=pt.ring_of_circulants_f2([1])\n",
    "b=pt.ring_of_circulants_f2([-1])\n",
    "a*b\n",
    "\n",
    "pt.zeros(4)"
   ]
  },
  {
   "cell_type": "code",
   "execution_count": 99,
   "metadata": {},
   "outputs": [],
   "source": [
    "from bposd.css import css_code\n",
    "\n",
    "\n",
    "def I(n):\n",
    "    return pt.identity(n)\n",
    "\n",
    "class lifted_hgp(css_code):\n",
    "\n",
    "    def __init__(self,lift_parameter,a,b=None):\n",
    "\n",
    "        '''\n",
    "        Generates the lifted hypergraph product of the protographs a and b\n",
    "        '''\n",
    "        self.a=a\n",
    "\n",
    "        self.a_m,self.a_n=self.a.shape\n",
    "\n",
    "        if b is None:\n",
    "            self.b=pt.copy(self.a)\n",
    "        else:\n",
    "            self.b=b\n",
    "        \n",
    "        self.b_m,self.b_n=self.b.shape\n",
    "\n",
    "        self.hx1_proto=pt.kron(self.a,I(self.b_n))\n",
    "        self.hx2_proto=pt.kron(I(self.a_m),self.b.T)\n",
    "        self.hx_proto=pt.hstack([self.hx1_proto,self.hx2_proto])\n",
    "\n",
    "        self.hz1_proto=pt.kron(I(self.a_n),self.b)\n",
    "        self.hz2_proto=pt.kron(self.a.T,I(self.b_m))\n",
    "        self.hz_proto=pt.hstack([self.hz1_proto,self.hz2_proto])\n",
    "\n",
    "        super().__init__(self.hx_proto.to_binary(lift_parameter),self.hz_proto.to_binary(lift_parameter))"
   ]
  },
  {
   "cell_type": "code",
   "execution_count": 153,
   "metadata": {},
   "outputs": [
    {
     "name": "stdout",
     "output_type": "stream",
     "text": [
      "<Unnamed CSS code>, (2,4)-[[840,2,nan]]\n",
      " -Block dimensions: Pass\n",
      " -PCMs commute hz@hx.T==0: Pass\n",
      " -PCMs commute hx@hz.T==0: Pass\n",
      " -lx \\in ker{hz} AND lz \\in ker{hx}: Pass\n",
      " -lx and lz anticommute: Pass\n",
      " -<Unnamed CSS code> is a valid CSS code w/ params (2,4)-[[840,2,nan]]\n"
     ]
    },
    {
     "data": {
      "text/plain": [
       "True"
      ]
     },
     "execution_count": 153,
     "metadata": {},
     "output_type": "execute_result"
    }
   ],
   "source": [
    "d=21\n",
    "\n",
    "a=pt.array([[(0,1)]])\n",
    "b=pt.array([[(0,d)]])\n",
    "\n",
    "qcode=lifted_hgp(d*(d-1),a,b)\n",
    "\n",
    "qcode.test()"
   ]
  },
  {
   "cell_type": "code",
   "execution_count": 154,
   "metadata": {},
   "outputs": [
    {
     "name": "stdout",
     "output_type": "stream",
     "text": [
      "<Unnamed CSS code>, (4,8)-[[416,18,nan]]\n",
      " -Block dimensions: Pass\n",
      " -PCMs commute hz@hx.T==0: Pass\n",
      " -PCMs commute hx@hz.T==0: Pass\n",
      " -lx \\in ker{hz} AND lz \\in ker{hx}: Pass\n",
      " -lx and lz anticommute: Pass\n",
      " -<Unnamed CSS code> is a valid CSS code w/ params (4,8)-[[416,18,nan]]\n"
     ]
    }
   ],
   "source": [
    "def lpc1():\n",
    "    proto_a=pt.array([\n",
    "        [(0), (11), (7), (12)],\n",
    "        [(1), (8), (1), (8)],\n",
    "        [(11), (0), (4), (8)],\n",
    "        [(6), (2), (4), (12)]\n",
    "    ])\n",
    "    return lifted_hgp(13,proto_a)\n",
    "\n",
    "def p19a1():\n",
    "\n",
    "    proto_a=pt.array([\n",
    "        [(36), (), (), (), (), (0), (9)],\n",
    "        [(9), (36), (), (), (), (), (0)],\n",
    "        [(0), (9), (36), (), (), (), ()],\n",
    "        [(), (0), (9), (36), (), (), ()],\n",
    "        [(), (), (0), (9), (36), (), ()],\n",
    "        [(), (), (), (0), (9), (36), ()],\n",
    "        [(), (), (), (), (0), (9), (36)]\n",
    "    ])\n",
    "\n",
    "    proto_b=pt.array([[(0, 1, 6)]])\n",
    "\n",
    "    return lifted_hgp(63,proto_b,proto_a)\n",
    "\n",
    "\n",
    "qcode=lpc1()\n",
    "qcode.canonical_logicals()\n",
    "qcode.test()\n",
    "\n",
    "\n",
    "hx=np.loadtxt(\"hx.txt\").astype(int)\n",
    "hz=np.loadtxt(\"hz.txt\").astype(int)\n",
    "\n",
    "assert np.array_equal(qcode.hx,qcode.hx)\n",
    "assert np.array_equal(qcode.hz,qcode.hz)"
   ]
  },
  {
   "cell_type": "code",
   "execution_count": 155,
   "metadata": {},
   "outputs": [
    {
     "name": "stdout",
     "output_type": "stream",
     "text": [
      "[[(-36) (-9) (0) () () () ()]\n",
      " [() (-36) (-9) (0) () () ()]\n",
      " [() () (-36) (-9) (0) () ()]\n",
      " [() () () (-36) (-9) (0) ()]\n",
      " [() () () () (-36) (-9) (0)]\n",
      " [(0) () () () () (-36) (-9)]\n",
      " [(-9) (0) () () () () (-36)]]\n"
     ]
    },
    {
     "name": "stderr",
     "output_type": "stream",
     "text": [
      "/home/roffej92/github/bias_tailored_qec/protograph.py:84: VisibleDeprecationWarning: Creating an ndarray from ragged nested sequences (which is a list-or-tuple of lists-or-tuples-or ndarrays with different lengths or shapes) is deprecated. If you meant to do this, you must specify 'dtype=object' when creating the ndarray.\n",
      "  temp_proto=np.array(proto_array)\n"
     ]
    }
   ],
   "source": [
    "a=pt.array([\n",
    "        [(36), (), (), (), (), (0), (9)],\n",
    "        [(9), (36), (), (), (), (), (0)],\n",
    "        [(0), (9), (36), (), (), (), ()],\n",
    "        [(), (0), (9), (36), (), (), ()],\n",
    "        [(), (), (0), (9), (36), (), ()],\n",
    "        [(), (), (), (0), (9), (36), ()],\n",
    "        [(), (), (), (), (0), (9), (36)]\n",
    "    ])\n",
    "\n",
    "\n",
    "# a=pt.array([[(1,1),()],[(),(1,2)]])\n",
    "\n",
    "# a=pt.array([[(),(0)]])\n",
    "# a=pt.ring_of_circulants_f2(np.array([[(),(0)]]))\n",
    "# a.coefficients\n",
    "print(a.T)\n"
   ]
  },
  {
   "cell_type": "code",
   "execution_count": 81,
   "metadata": {},
   "outputs": [
    {
     "ename": "TypeError",
     "evalue": "'int' object is not iterable",
     "output_type": "error",
     "traceback": [
      "\u001b[0;31m---------------------------------------------------------------------------\u001b[0m",
      "\u001b[0;31mTypeError\u001b[0m                                 Traceback (most recent call last)",
      "\u001b[0;32m/tmp/ipykernel_1774217/3506904322.py\u001b[0m in \u001b[0;36m<module>\u001b[0;34m\u001b[0m\n\u001b[0;32m----> 1\u001b[0;31m \u001b[0mpt\u001b[0m\u001b[0;34m.\u001b[0m\u001b[0mring_of_circulants_f2\u001b[0m\u001b[0;34m(\u001b[0m\u001b[0mlist\u001b[0m\u001b[0;34m(\u001b[0m\u001b[0;34m(\u001b[0m\u001b[0;36m2\u001b[0m\u001b[0;34m)\u001b[0m\u001b[0;34m)\u001b[0m\u001b[0;34m)\u001b[0m\u001b[0;34m.\u001b[0m\u001b[0mto_binary\u001b[0m\u001b[0;34m(\u001b[0m\u001b[0;36m3\u001b[0m\u001b[0;34m)\u001b[0m\u001b[0;34m\u001b[0m\u001b[0;34m\u001b[0m\u001b[0m\n\u001b[0m",
      "\u001b[0;31mTypeError\u001b[0m: 'int' object is not iterable"
     ]
    }
   ],
   "source": [
    "pt.ring_of_circulants_f2(list((2))).to_binary(3)"
   ]
  },
  {
   "cell_type": "code",
   "execution_count": 82,
   "metadata": {},
   "outputs": [
    {
     "name": "stdout",
     "output_type": "stream",
     "text": [
      "[[(0) (11) (7) (12)]\n",
      " [(1) (8) (1) (8)]\n",
      " [(11) (0) (4) (8)]\n",
      " [(6) (2) (4) (12)]]\n"
     ]
    }
   ],
   "source": [
    "proto_a=pt.array([\n",
    "        [(0), (11), (7), (12)],\n",
    "        [(1), (8), (1), (8)],\n",
    "        [(11), (0), (4), (8)],\n",
    "        [(6), (2), (4), (12)]\n",
    "    ])\n",
    "\n",
    "print(proto_a)"
   ]
  },
  {
   "cell_type": "code",
   "execution_count": 83,
   "metadata": {},
   "outputs": [
    {
     "data": {
      "text/plain": [
       "[2]"
      ]
     },
     "execution_count": 83,
     "metadata": {},
     "output_type": "execute_result"
    }
   ],
   "source": [
    "list((2,))"
   ]
  },
  {
   "cell_type": "code",
   "execution_count": 84,
   "metadata": {},
   "outputs": [
    {
     "data": {
      "text/plain": [
       "(0, 1)"
      ]
     },
     "execution_count": 84,
     "metadata": {},
     "output_type": "execute_result"
    }
   ],
   "source": [
    "[(0,1)][0]"
   ]
  },
  {
   "cell_type": "code",
   "execution_count": 85,
   "metadata": {},
   "outputs": [
    {
     "data": {
      "text/plain": [
       "[0]"
      ]
     },
     "execution_count": 85,
     "metadata": {},
     "output_type": "execute_result"
    }
   ],
   "source": [
    "[(0)]"
   ]
  },
  {
   "cell_type": "code",
   "execution_count": 177,
   "metadata": {},
   "outputs": [
    {
     "name": "stdout",
     "output_type": "stream",
     "text": [
      "array([[0, 1]])\n"
     ]
    },
    {
     "ename": "TypeError",
     "evalue": "Cannot change data-type for object array.",
     "output_type": "error",
     "traceback": [
      "\u001b[0;31m---------------------------------------------------------------------------\u001b[0m",
      "\u001b[0;31mTypeError\u001b[0m                                 Traceback (most recent call last)",
      "\u001b[0;32m/tmp/ipykernel_1774217/1465575526.py\u001b[0m in \u001b[0;36m<module>\u001b[0;34m\u001b[0m\n\u001b[1;32m      9\u001b[0m \u001b[0mlen\u001b[0m\u001b[0;34m(\u001b[0m\u001b[0ma\u001b[0m\u001b[0;34m.\u001b[0m\u001b[0mshape\u001b[0m\u001b[0;34m)\u001b[0m\u001b[0;34m\u001b[0m\u001b[0;34m\u001b[0m\u001b[0m\n\u001b[1;32m     10\u001b[0m \u001b[0;34m\u001b[0m\u001b[0m\n\u001b[0;32m---> 11\u001b[0;31m \u001b[0ma\u001b[0m\u001b[0;34m.\u001b[0m\u001b[0mdtype\u001b[0m\u001b[0;34m=\u001b[0m\u001b[0mobject\u001b[0m\u001b[0;34m\u001b[0m\u001b[0;34m\u001b[0m\u001b[0m\n\u001b[0m\u001b[1;32m     12\u001b[0m \u001b[0ma\u001b[0m\u001b[0;34m\u001b[0m\u001b[0;34m\u001b[0m\u001b[0m\n",
      "\u001b[0;32m~/miniconda3/envs/ldpc/lib/python3.7/site-packages/numpy/core/_internal.py\u001b[0m in \u001b[0;36m_view_is_safe\u001b[0;34m(oldtype, newtype)\u001b[0m\n\u001b[1;32m    492\u001b[0m \u001b[0;34m\u001b[0m\u001b[0m\n\u001b[1;32m    493\u001b[0m     \u001b[0;32mif\u001b[0m \u001b[0mnewtype\u001b[0m\u001b[0;34m.\u001b[0m\u001b[0mhasobject\u001b[0m \u001b[0;32mor\u001b[0m \u001b[0moldtype\u001b[0m\u001b[0;34m.\u001b[0m\u001b[0mhasobject\u001b[0m\u001b[0;34m:\u001b[0m\u001b[0;34m\u001b[0m\u001b[0;34m\u001b[0m\u001b[0m\n\u001b[0;32m--> 494\u001b[0;31m         \u001b[0;32mraise\u001b[0m \u001b[0mTypeError\u001b[0m\u001b[0;34m(\u001b[0m\u001b[0;34m\"Cannot change data-type for object array.\"\u001b[0m\u001b[0;34m)\u001b[0m\u001b[0;34m\u001b[0m\u001b[0;34m\u001b[0m\u001b[0m\n\u001b[0m\u001b[1;32m    495\u001b[0m     \u001b[0;32mreturn\u001b[0m\u001b[0;34m\u001b[0m\u001b[0;34m\u001b[0m\u001b[0m\n\u001b[1;32m    496\u001b[0m \u001b[0;34m\u001b[0m\u001b[0m\n",
      "\u001b[0;31mTypeError\u001b[0m: Cannot change data-type for object array."
     ]
    }
   ],
   "source": [
    "a=[(0,1)]\n",
    "try:\n",
    "    a=list(a)\n",
    "except TypeError:\n",
    "    a=[a]\n",
    "\n",
    "a=np.array(a).astype(int)\n",
    "print(repr(a))\n",
    "len(a.shape)\n",
    "\n",
    "a.dtype=object\n",
    "a"
   ]
  },
  {
   "cell_type": "code",
   "execution_count": 178,
   "metadata": {},
   "outputs": [],
   "source": [
    "class test(np.ndarray):\n",
    "    def __new__(cls,input_array):\n",
    "        temp_proto=np.asarray(input_array)\n",
    "        n=temp_proto.shape\n",
    "        obj=np.empty(n).astype(pt.ring_of_circulants_f2)\n",
    "\n",
    "        for i,ring_els in enumerate(temp_proto):\n",
    "            obj[i]=pt.ring_of_circulants_f2(ring_els)\n",
    "        return obj\n",
    "\n",
    "\n",
    "a=[(0,1)]\n",
    "\n",
    "test(a)\n",
    "\n",
    "    \n"
   ]
  },
  {
   "cell_type": "code",
   "execution_count": 167,
   "metadata": {},
   "outputs": [
    {
     "data": {
      "text/plain": [
       "array({1}, dtype=object)"
      ]
     },
     "execution_count": 167,
     "metadata": {},
     "output_type": "execute_result"
    }
   ],
   "source": [
    "np.asarray({1,})"
   ]
  },
  {
   "cell_type": "code",
   "execution_count": null,
   "metadata": {},
   "outputs": [],
   "source": []
  }
 ],
 "metadata": {
  "interpreter": {
   "hash": "c00df55c54b9b596b40b790826eb03966dd1b9ea2eed7d07651f2f589855ec30"
  },
  "kernelspec": {
   "display_name": "Python 3.7.11 64-bit ('ldpc': conda)",
   "language": "python",
   "name": "python3"
  },
  "language_info": {
   "codemirror_mode": {
    "name": "ipython",
    "version": 3
   },
   "file_extension": ".py",
   "mimetype": "text/x-python",
   "name": "python",
   "nbconvert_exporter": "python",
   "pygments_lexer": "ipython3",
   "version": "3.7.11"
  },
  "orig_nbformat": 4
 },
 "nbformat": 4,
 "nbformat_minor": 2
}
