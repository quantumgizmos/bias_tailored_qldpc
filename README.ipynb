{
 "cells": [
  {
   "cell_type": "markdown",
   "metadata": {},
   "source": [
    "# Bias-tailored quantum LDPC codes\n",
    "\n",
    "This repository contains the code for the decoding simulations of bias-tailored quantum LDPC codes as described in [arXiv:2202.01702](https://arxiv.org/abs/2202.01702). Also included are various examples showing how our code base can be used to construct lifted product codes.\n",
    "\n",
    "- [Bias-tailored quantum LDPC codes](#bias-tailored-quantum-ldpc-codes)\n",
    "  * [Setup](#setup)\n",
    "- [Classical error correction](#classical-error-correction)\n",
    "  * [Quasi-cyclic codes](#quasi-cyclic-codes)\n",
    "    + [Permutation matrices](#permutation-matrices)\n",
    "    + [The ring of circulants](#the-ring-of-circulants)\n",
    "      - [Matrix version](#matrix-version)\n",
    "      - [Ring version](#ring-version)\n",
    "    + [Protographs](#protographs)\n",
    "    + [The repetition code as a quasi-cyclic code](#the-repetition-code-as-a-quasi-cyclic-code)\n",
    "- [Quantum error correction](#quantum-error-correction)\n",
    "  * [Calderbank, Shor & Steane (CSS codes)](#calderbank--shor---steane--css-codes-)\n",
    "  * [Hypergraph product codes](#hypergraph-product-codes)\n",
    "    + [The toric code form the hypergraph product](#the-toric-code-form-the-hypergraph-product)\n",
    "    + [A quantum LDPC code from the hypergraph product](#a-quantum-ldpc-code-from-the-hypergraph-product)\n",
    "  * [Lifted product codes](#lifted-product-codes)\n",
    "- [Bias-tailoring](#bias-tailoring)\n",
    "  * [The CSS twisted toric code](#the-css-twisted-toric-code)\n",
    "    + [The CSS twisted toric code under infinite-bias](#the-css-twisted-toric-code-under-infinite-bias)\n",
    "  * [The XZZX twisted toric code](#the-xzzx-twisted-toric-code)\n",
    "    + [The XZZX twisted toric code under infinite bias](#the-xzzx-twisted-toric-code-under-infinite-bias)\n",
    "    + [General construction for XZZX twisted toric codes](#general-construction-for-xzzx-twisted-toric-codes)\n",
    "  * [Bias-tailored LDPC codes](#bias-tailored-ldpc-codes)\n",
    "- [BP+OSD decoding of bias-tailored LDPC codes](#bp-osd-decoding-of-bias-tailored-ldpc-codes)\n",
    "    + [Decoding under X-bias](#decoding-under-x-bias)\n",
    "\n",
    "## Setup\n",
    "The code in this repository requires functions from [`LDPC`](https://github.com/quantumgizmos/ldpc) and [`BPOSD`](https://github.com/quantumgizmos/bp_osd). To install, run the following command\n",
    "\n",
    "```\n",
    "pip install -U ldpc bposd\n",
    "```"
   ]
  },
  {
   "cell_type": "markdown",
   "metadata": {},
   "source": [
    "# Classical error correction \n",
    "Section 2.1 in [arXiv:2202.01702](https://arxiv.org/abs/2202.01702)\n",
    "\n",
    "\n",
    "\n",
    "A binary linear code is defined by its parity check matrix. Eg. the parity check matrix for the four-bit (closed loop) repetition code is given by"
   ]
  },
  {
   "cell_type": "code",
   "execution_count": 11,
   "metadata": {},
   "outputs": [
    {
     "name": "stdout",
     "output_type": "stream",
     "text": [
      "[[1 1 0 0]\n",
      " [0 1 1 0]\n",
      " [0 0 1 1]\n",
      " [1 0 0 1]]\n"
     ]
    }
   ],
   "source": [
    "import numpy as np\n",
    "from ldpc.codes import ring_code\n",
    "\n",
    "H=ring_code(4)\n",
    "print(H)"
   ]
  },
  {
   "cell_type": "markdown",
   "metadata": {},
   "source": [
    "The code parameters of this code are [n=4,k=1,d=4] where n is the block length, k is the number of encoded bits and d is the code distance. These parameters can be checked as follows:"
   ]
  },
  {
   "cell_type": "code",
   "execution_count": 12,
   "metadata": {},
   "outputs": [
    {
     "name": "stdout",
     "output_type": "stream",
     "text": [
      "[4,1,4]\n"
     ]
    }
   ],
   "source": [
    "from ldpc.code_util import compute_code_distance\n",
    "import ldpc.mod2 as mod2\n",
    "\n",
    "n=H.shape[1] #the code block length\n",
    "k=n-mod2.rank(H) #This follows from the rank-nullity theorem\n",
    "d=compute_code_distance(H) #This function exhaustively computes the code distance by checking the weight of all logical operators (Not scalable!).\n",
    "print(f\"[{n},{k},{d}]\")"
   ]
  },
  {
   "cell_type": "markdown",
   "metadata": {},
   "source": [
    "## Quasi-cyclic codes\n",
    "Section 2.3 in [arXiv:2202.01702](https://arxiv.org/abs/2202.01702)\n",
    "\n",
    "Quasicyclic codes are a type of classical linear code that are highly performant under BP decoding. The parity check matrix of a quasi-cyclic code is a block matrix where each block corresponds to a sum over permutation matrices.\n",
    "\n",
    "### Permutation matrices\n",
    "\n",
    "A permuation matrix is defined as the matrix obtained by shifting an `LxL` matrix by `t` positions to the right. After `t=L` shifts, the identity is recovered. eg."
   ]
  },
  {
   "cell_type": "code",
   "execution_count": 13,
   "metadata": {},
   "outputs": [
    {
     "name": "stdout",
     "output_type": "stream",
     "text": [
      "t=0\n",
      "[[1 0 0]\n",
      " [0 1 0]\n",
      " [0 0 1]]\n",
      "t=1\n",
      "[[0 1 0]\n",
      " [0 0 1]\n",
      " [1 0 0]]\n",
      "t=2\n",
      "[[0 0 1]\n",
      " [1 0 0]\n",
      " [0 1 0]]\n",
      "t=3\n",
      "[[1 0 0]\n",
      " [0 1 0]\n",
      " [0 0 1]]\n"
     ]
    }
   ],
   "source": [
    "from ldpc import protograph as pt\n",
    "for i in range(4):\n",
    "    print(f\"t={i}\")\n",
    "    print(pt.permutation_matrix(3,i))"
   ]
  },
  {
   "cell_type": "markdown",
   "metadata": {},
   "source": [
    "### The ring of circulants\n",
    "\n",
    "The set of `L` distinct permutation matrices forms a basis of a vector space referred to as the ring of circulants. This group is isomorphic to the polynomial equation `x^L-1=0`, providing a compact algebra with which to represent it. We can define a ring element as follows:"
   ]
  },
  {
   "cell_type": "code",
   "execution_count": 14,
   "metadata": {},
   "outputs": [
    {
     "name": "stdout",
     "output_type": "stream",
     "text": [
      "λ(0,1)\n"
     ]
    }
   ],
   "source": [
    "ring_element=pt.RingOfCirculantsF2((0,1))\n",
    "print(ring_element)"
   ]
  },
  {
   "cell_type": "markdown",
   "metadata": {},
   "source": [
    "The above ring element can be mapped to binary representation (of size L) as follows:"
   ]
  },
  {
   "cell_type": "code",
   "execution_count": 15,
   "metadata": {},
   "outputs": [
    {
     "data": {
      "text/plain": [
       "array([[1, 1, 0],\n",
       "       [0, 1, 1],\n",
       "       [1, 0, 1]])"
      ]
     },
     "execution_count": 15,
     "metadata": {},
     "output_type": "execute_result"
    }
   ],
   "source": [
    "L=3\n",
    "ring_element.to_binary(3)"
   ]
  },
  {
   "cell_type": "markdown",
   "metadata": {},
   "source": [
    "We see that the ring element corresponds to sum of permutation matrices with shift parameters `t=0` and `t=1`. In general, all computations on permutation matrices involving addition and multiplication mod2 can be represented using the ring algebra. For example:\n",
    "\n",
    "#### Matrix version"
   ]
  },
  {
   "cell_type": "code",
   "execution_count": 16,
   "metadata": {},
   "outputs": [
    {
     "name": "stdout",
     "output_type": "stream",
     "text": [
      "[[1 0 0 1 1]\n",
      " [1 1 0 0 1]\n",
      " [1 1 1 0 0]\n",
      " [0 1 1 1 0]\n",
      " [0 0 1 1 1]]\n"
     ]
    }
   ],
   "source": [
    "L=5\n",
    "\n",
    "a=pt.permutation_matrix(L,2)+pt.permutation_matrix(L,4)\n",
    "b=pt.permutation_matrix(L,3)\n",
    "\n",
    "print((a@b %2+(a+b)%2)%2)"
   ]
  },
  {
   "cell_type": "markdown",
   "metadata": {},
   "source": [
    "#### Ring version"
   ]
  },
  {
   "cell_type": "code",
   "execution_count": 17,
   "metadata": {},
   "outputs": [
    {
     "name": "stdout",
     "output_type": "stream",
     "text": [
      "Ring element\n",
      "λ(2,3,4,5,7)\n",
      "\n",
      "Matrix representation\n",
      "[[1 0 0 1 1]\n",
      " [1 1 0 0 1]\n",
      " [1 1 1 0 0]\n",
      " [0 1 1 1 0]\n",
      " [0 0 1 1 1]]\n"
     ]
    }
   ],
   "source": [
    "L=5\n",
    "\n",
    "a=pt.RingOfCirculantsF2((2,4))\n",
    "b=pt.RingOfCirculantsF2((3))\n",
    "c= a*b + (a+b)\n",
    "\n",
    "print(\"Ring element\")\n",
    "print(c)\n",
    "\n",
    "print()\n",
    "\n",
    "print(\"Matrix representation\")\n",
    "print(c.to_binary(L))"
   ]
  },
  {
   "cell_type": "markdown",
   "metadata": {},
   "source": [
    "### Protographs"
   ]
  },
  {
   "cell_type": "markdown",
   "metadata": {},
   "source": [
    "A protograph is an `mxn` matrix where each element is in the ring of circulants. eg."
   ]
  },
  {
   "cell_type": "code",
   "execution_count": 18,
   "metadata": {},
   "outputs": [
    {
     "name": "stdout",
     "output_type": "stream",
     "text": [
      "[[λ(1,2) λ(0) λ()]\n",
      " [λ(0) λ(0,1) λ(1)]]\n"
     ]
    }
   ],
   "source": [
    "A=pt.array([[(1,2),(0),()],\n",
    "             [(0),(0,1),(1)]])\n",
    "\n",
    "print(A)"
   ]
  },
  {
   "cell_type": "markdown",
   "metadata": {},
   "source": [
    "We can convert this to a binary parity check matrix as follows:"
   ]
  },
  {
   "cell_type": "code",
   "execution_count": 19,
   "metadata": {},
   "outputs": [
    {
     "name": "stdout",
     "output_type": "stream",
     "text": [
      "[[0 1 1 1 0 0 0 0 0]\n",
      " [1 0 1 0 1 0 0 0 0]\n",
      " [1 1 0 0 0 1 0 0 0]\n",
      " [1 0 0 1 1 0 0 1 0]\n",
      " [0 1 0 0 1 1 0 0 1]\n",
      " [0 0 1 1 0 1 1 0 0]]\n"
     ]
    }
   ],
   "source": [
    "H=A.to_binary(lift_parameter=3)\n",
    "print(H)"
   ]
  },
  {
   "cell_type": "markdown",
   "metadata": {},
   "source": [
    "The parity check matrix obtained from the binary representation of the protograph defines a quasi-cyclic code."
   ]
  },
  {
   "cell_type": "markdown",
   "metadata": {},
   "source": [
    "### The repetition code as a quasi-cyclic code\n",
    "\n",
    "The family of length-n [n,1,n] closed-loop repetition codes can be represented as a quasi-cyclic code family with protographs of the form:"
   ]
  },
  {
   "cell_type": "code",
   "execution_count": 20,
   "metadata": {},
   "outputs": [
    {
     "name": "stdout",
     "output_type": "stream",
     "text": [
      "[[1 1 0 0]\n",
      " [0 1 1 0]\n",
      " [0 0 1 1]\n",
      " [1 0 0 1]]\n"
     ]
    }
   ],
   "source": [
    "A=pt.array([[(0,1)]])\n",
    "H=A.to_binary(lift_parameter=4)\n",
    "print(H)"
   ]
  },
  {
   "cell_type": "markdown",
   "metadata": {},
   "source": [
    "# Quantum error correction\n",
    "\n",
    "## Calderbank, Shor & Steane (CSS codes)\n",
    "\n",
    "Section 3.2 in arXiv:2202.xxxx\n",
    "\n",
    "CSS codes are quantum stabiliser codes with non-overlapping X- and Z- stabilisers. Using our code, you can construct a CSS code as follows:"
   ]
  },
  {
   "cell_type": "code",
   "execution_count": 21,
   "metadata": {},
   "outputs": [
    {
     "name": "stdout",
     "output_type": "stream",
     "text": [
      "[[0 0 0 1 1 1 1]\n",
      " [0 1 1 0 0 1 1]\n",
      " [1 0 1 0 1 0 1]]\n"
     ]
    }
   ],
   "source": [
    "from ldpc.codes import hamming_code\n",
    "H=hamming_code(3)\n",
    "print(H)"
   ]
  },
  {
   "cell_type": "code",
   "execution_count": 22,
   "metadata": {},
   "outputs": [
    {
     "name": "stdout",
     "output_type": "stream",
     "text": [
      "[[0 0 0 1 1 1 1]\n",
      " [0 1 1 0 0 1 1]\n",
      " [1 0 1 0 1 0 1]]\n",
      "[[0 0 0 1 1 1 1]\n",
      " [0 1 1 0 0 1 1]\n",
      " [1 0 1 0 1 0 1]]\n"
     ]
    }
   ],
   "source": [
    "from bposd.css import css_code\n",
    "\n",
    "qcode=css_code(hx=H,hz=H)\n",
    "\n",
    "print(qcode.hx)\n",
    "print(qcode.hz)"
   ]
  },
  {
   "cell_type": "markdown",
   "metadata": {},
   "source": [
    "In the above `hx` and `hz` are parity check matrices that describe the X- and Z-stabiliser measurments respectively. The logical operators of a CSS code are obtained from our `css_code` object as follows:"
   ]
  },
  {
   "cell_type": "code",
   "execution_count": 23,
   "metadata": {},
   "outputs": [
    {
     "name": "stdout",
     "output_type": "stream",
     "text": [
      "[[1 1 1 0 0 0 0]]\n",
      "[[1 1 1 0 0 0 0]]\n"
     ]
    }
   ],
   "source": [
    "lx=qcode.lx #x logical operators\n",
    "lz=qcode.lz #z logical operators\n",
    "\n",
    "print(lx)\n",
    "print(lz)"
   ]
  },
  {
   "cell_type": "markdown",
   "metadata": {},
   "source": [
    "All stabiliser codes must have `hx` and `hz` matrices that commute. We can test that this requirement is satisfied using the `css_code.test` function. eg."
   ]
  },
  {
   "cell_type": "code",
   "execution_count": 24,
   "metadata": {},
   "outputs": [
    {
     "name": "stdout",
     "output_type": "stream",
     "text": [
      "<Unnamed CSS code>, (3,4)-[[7,1,nan]]\n",
      " -Block dimensions: Pass\n",
      " -PCMs commute hz@hx.T==0: Pass\n",
      " -PCMs commute hx@hz.T==0: Pass\n",
      " -lx \\in ker{hz} AND lz \\in ker{hx}: Pass\n",
      " -lx and lz anticommute: Pass\n",
      " -<Unnamed CSS code> is a valid CSS code w/ params (3,4)-[[7,1,nan]]\n"
     ]
    },
    {
     "data": {
      "text/plain": [
       "True"
      ]
     },
     "execution_count": 24,
     "metadata": {},
     "output_type": "execute_result"
    }
   ],
   "source": [
    "qcode.test()"
   ]
  },
  {
   "cell_type": "markdown",
   "metadata": {},
   "source": [
    "From the above we see that the code we have defined is a valid CSS code. However, this will not be the case for arbitrary combinations of `hx` and `hz` matrices. For, example, if we define `hx` and `hz` to be repetition codes, we get the following invalid CSS code:"
   ]
  },
  {
   "cell_type": "code",
   "execution_count": 25,
   "metadata": {},
   "outputs": [
    {
     "name": "stdout",
     "output_type": "stream",
     "text": [
      "<Unnamed CSS code>, (2,2)-[[4,-2,nan]]\n",
      " -Block dimensions incorrect\n",
      " -PCMs commute hz@hx.T==0: Fail\n",
      " -PCMs commute hx@hz.T==0: Fail\n",
      " -lx \\in ker{hz} AND lz \\in ker{hx}: Pass\n",
      " -lx and lz anitcommute: Fail\n"
     ]
    },
    {
     "data": {
      "text/plain": [
       "False"
      ]
     },
     "execution_count": 25,
     "metadata": {},
     "output_type": "execute_result"
    }
   ],
   "source": [
    "h=ring_code(4)\n",
    "qcode=css_code(hx=h,hz=h)\n",
    "qcode.test()\n"
   ]
  },
  {
   "cell_type": "markdown",
   "metadata": {},
   "source": [
    "The `qcode.test` function executed above tells us that the `hx` and `hz` matrices do not commute."
   ]
  },
  {
   "cell_type": "markdown",
   "metadata": {},
   "source": [
    "## Hypergraph product codes\n",
    "Section 3.3 in [arXiv:2202.01702](https://arxiv.org/abs/2202.01702)"
   ]
  },
  {
   "cell_type": "markdown",
   "metadata": {},
   "source": [
    "We have now seen that CSS stabiliser codes cannot take any arbitrary combination of `hx` and `hz` matrices as inputs due to the requirement that stabilisers must commute. So how do we create quantum codes from the starting point of classical codes? One solution is to use a code construction method called the hypegraph product which was first proposed by [Tillich and Zemor](https://arxiv.org/abs/0903.0566). This defines the `hx` and `hz` components of the CSS code as follows:\n",
    "\n",
    "```\n",
    "hx=[ h1 ⊗ I, h2^T ⊗ I ]\n",
    "hz=[ I ⊗ h2, h1^t ⊗ I]\n",
    "```\n",
    "\n",
    "where `h1` and `h2` are two classical *seed* codes. It is straightforward to verify that the above two parity check matrices will commute for any combination of the seed codes. The hypergraph product therefore allows us to construct a quantum code from any arbitrary pair of classical binary codes."
   ]
  },
  {
   "cell_type": "markdown",
   "metadata": {},
   "source": [
    "### The toric code form the hypergraph product\n",
    "\n",
    "The toric code can be constructed from the hypergraph product of two closed loop repetition codes."
   ]
  },
  {
   "cell_type": "code",
   "execution_count": 26,
   "metadata": {},
   "outputs": [
    {
     "name": "stdout",
     "output_type": "stream",
     "text": [
      "<Unnamed CSS code>, (2,4)-[[12,2,2]]\n",
      " -Block dimensions: Pass\n",
      " -PCMs commute hz@hx.T==0: Pass\n",
      " -PCMs commute hx@hz.T==0: Pass\n",
      " -lx \\in ker{hz} AND lz \\in ker{hx}: Pass\n",
      " -lx and lz anticommute: Pass\n",
      " -<Unnamed CSS code> is a valid CSS code w/ params (2,4)-[[12,2,2]]\n"
     ]
    },
    {
     "data": {
      "text/plain": [
       "True"
      ]
     },
     "execution_count": 26,
     "metadata": {},
     "output_type": "execute_result"
    }
   ],
   "source": [
    "from bposd.hgp import hgp\n",
    "h1=ring_code(2)\n",
    "h2=ring_code(3)\n",
    "\n",
    "qcode=hgp(h1,h2,compute_distance=True)\n",
    "qcode.test()\n"
   ]
  },
  {
   "cell_type": "markdown",
   "metadata": {},
   "source": [
    "### A quantum LDPC code from the hypergraph product\n",
    "\n",
    "Example 3.2 in [arXiv:2202.01702](https://arxiv.org/abs/2202.01702)\n",
    "\n",
    "The hypergraph product can also be used to create quantum LDPC codes from the starting point of classical LDPC codes. For example, consider the following classical LDPC code of the length 16"
   ]
  },
  {
   "cell_type": "code",
   "execution_count": 27,
   "metadata": {},
   "outputs": [
    {
     "name": "stdout",
     "output_type": "stream",
     "text": [
      "Code parameters: [16,4,6]\n"
     ]
    }
   ],
   "source": [
    "H=np.array([[1, 1, 0, 0, 1, 1, 0, 0, 0, 0, 0, 0, 0, 0, 0, 0],\n",
    "            [0, 0, 1, 0, 0, 0, 1, 1, 0, 0, 0, 0, 1, 0, 0, 0],\n",
    "            [0, 0, 0, 1, 1, 0, 1, 0, 0, 0, 0, 0, 0, 1, 0, 0],\n",
    "            [0, 0, 0, 0, 0, 1, 0, 0, 1, 1, 0, 0, 0, 0, 0, 1],\n",
    "            [0, 1, 0, 0, 0, 0, 0, 1, 1, 0, 0, 1, 0, 0, 0, 0],\n",
    "            [0, 0, 0, 0, 0, 0, 0, 0, 1, 0, 0, 0, 1, 1, 1, 0],\n",
    "            [1, 0, 0, 0, 0, 0, 0, 1, 0, 0, 0, 0, 0, 1, 0, 1],\n",
    "            [0, 0, 0, 1, 0, 1, 0, 0, 0, 0, 1, 0, 1, 0, 0, 0],\n",
    "            [0, 0, 1, 1, 0, 0, 0, 0, 0, 0, 0, 1, 0, 0, 0, 1],\n",
    "            [0, 0, 0, 0, 1, 0, 0, 0, 0, 1, 1, 1, 0, 0, 0, 0],\n",
    "            [0, 1, 0, 0, 0, 0, 1, 0, 0, 0, 1, 0, 0, 0, 1, 0],\n",
    "            [1, 0, 1, 0, 0, 0, 0, 0, 0, 1, 0, 0, 0, 0, 1, 0]])\n",
    "\n",
    "from ldpc.code_util import get_code_parameters\n",
    "\n",
    "n,k,d,_,_=get_code_parameters(H)\n",
    "\n",
    "print(f\"Code parameters: [{n},{k},{d}]\")"
   ]
  },
  {
   "cell_type": "markdown",
   "metadata": {},
   "source": [
    "The hypergraph product of two pairs of the above code gives the following quantum LDPC code"
   ]
  },
  {
   "cell_type": "code",
   "execution_count": 28,
   "metadata": {},
   "outputs": [
    {
     "name": "stdout",
     "output_type": "stream",
     "text": [
      "<Unnamed CSS code>, (4,7)-[[400,16,6]]\n",
      " -Block dimensions: Pass\n",
      " -PCMs commute hz@hx.T==0: Pass\n",
      " -PCMs commute hx@hz.T==0: Pass\n",
      " -lx \\in ker{hz} AND lz \\in ker{hx}: Pass\n",
      " -lx and lz anticommute: Pass\n",
      " -<Unnamed CSS code> is a valid CSS code w/ params (4,7)-[[400,16,6]]\n"
     ]
    },
    {
     "data": {
      "text/plain": [
       "True"
      ]
     },
     "execution_count": 28,
     "metadata": {},
     "output_type": "execute_result"
    }
   ],
   "source": [
    "qcode=hgp(H,H,compute_distance=True)\n",
    "qcode.test()"
   ]
  },
  {
   "cell_type": "markdown",
   "metadata": {},
   "source": [
    "## Lifted product codes\n",
    "\n",
    "Section 3.4 in [arXiv:2202.01702](https://arxiv.org/abs/2202.01702)\n",
    "\n",
    "The lifted product is an extension of the hypergraph product that allows quantum codes to be constructed from pairs of classical quasi-cyclic codes. The lifted product was first proposed by [Pantaleev and Kalachev](https://arxiv.org/abs/2111.03654) and has been proved to yield asympotically good quantum LDPC codes with linear distance-to-block length scaling. In a lifted product code, the `hx` and `hz` CSS components are constructed from two protographs defined as follows:\n",
    "\n",
    "```\n",
    "ax=[ a1 ⊗ E, a2^T ⊗ E ]\n",
    "az=[ E ⊗ a2, a1^t ⊗ E]\n",
    "```\n",
    "\n",
    "where `a1` and `a2` are the protographs of classical quasi-cyclic codes and `E` is the identity protograph element. The `hx` and `hz` components are obtained by mapping `ax` and `az` to their binary representation. Similiar to the hypergraph product, the lifted product allows a quantum code to be constructed from any pair of protographs. As an example, consider the protograph below"
   ]
  },
  {
   "cell_type": "code",
   "execution_count": 29,
   "metadata": {},
   "outputs": [
    {
     "name": "stdout",
     "output_type": "stream",
     "text": [
      "[[λ(0) λ(11) λ(7) λ(12)]\n",
      " [λ(1) λ(8) λ(1) λ(8)]\n",
      " [λ(11) λ(0) λ(4) λ(8)]\n",
      " [λ(6) λ(2) λ(4) λ(12)]]\n"
     ]
    }
   ],
   "source": [
    "a1=pt.array([\n",
    "        [(0), (11), (7), (12)],\n",
    "        [(1), (8), (1), (8)],\n",
    "        [(11), (0), (4), (8)],\n",
    "        [(6), (2), (4), (12)]])\n",
    "\n",
    "print(a1)"
   ]
  },
  {
   "cell_type": "markdown",
   "metadata": {},
   "source": [
    "Mapping the above protograph to a binary with lift parameter L=13 gives the following classical code "
   ]
  },
  {
   "cell_type": "code",
   "execution_count": 30,
   "metadata": {},
   "outputs": [
    {
     "name": "stdout",
     "output_type": "stream",
     "text": [
      "Code parameters: [52,3,26]\n"
     ]
    }
   ],
   "source": [
    "H=a1.to_binary(lift_parameter=13)\n",
    "n,k,d,_,_=get_code_parameters(H)\n",
    "print(f\"Code parameters: [{n},{k},{d}]\")"
   ]
  },
  {
   "cell_type": "markdown",
   "metadata": {},
   "source": [
    "Now if we take the hypergraph product of this binary matrix, we get the following CSS code"
   ]
  },
  {
   "cell_type": "code",
   "execution_count": 21,
   "metadata": {},
   "outputs": [
    {
     "name": "stdout",
     "output_type": "stream",
     "text": [
      "<Unnamed CSS code>, (4,8)-[[5408,18,26]]\n",
      " -Block dimensions: Pass\n",
      " -PCMs commute hz@hx.T==0: Pass\n",
      " -PCMs commute hx@hz.T==0: Pass\n",
      " -lx \\in ker{hz} AND lz \\in ker{hx}: Pass\n",
      " -lx and lz anticommute: Pass\n",
      " -<Unnamed CSS code> is a valid CSS code w/ params (4,8)-[[5408,18,26]]\n"
     ]
    },
    {
     "data": {
      "text/plain": [
       "True"
      ]
     },
     "execution_count": 21,
     "metadata": {},
     "output_type": "execute_result"
    }
   ],
   "source": [
    "qcode=hgp(H,H,compute_distance=True) #this will take a while\n",
    "qcode.test()"
   ]
  },
  {
   "cell_type": "markdown",
   "metadata": {},
   "source": [
    "The rate of this code is:"
   ]
  },
  {
   "cell_type": "code",
   "execution_count": 22,
   "metadata": {},
   "outputs": [
    {
     "data": {
      "text/plain": [
       "0.0033284023668639054"
      ]
     },
     "execution_count": 22,
     "metadata": {},
     "output_type": "execute_result"
    }
   ],
   "source": [
    "rate=qcode.K/qcode.N\n",
    "rate"
   ]
  },
  {
   "cell_type": "markdown",
   "metadata": {},
   "source": [
    "It is clear that the rate of this code is quite small! In the lifted product, we instead define the quantum code as a hypergraph product of two protographs. This requires performing all tensor product operations over the ring algebra, but results in a much more compact code."
   ]
  },
  {
   "cell_type": "code",
   "execution_count": 31,
   "metadata": {},
   "outputs": [
    {
     "name": "stdout",
     "output_type": "stream",
     "text": [
      "[[(0) (11) (7) (12) () () () () () () () () () () () () (0) () () () (-1) () () () (-11) () () () (-6) () () ()]\n",
      " [(1) (8) (1) (8) () () () () () () () () () () () () () (0) () () () (-1) () () () (-11) () () () (-6) () ()]\n",
      " [(11) (0) (4) (8) () () () () () () () () () () () () () () (0) () () () (-1) () () () (-11) () () () (-6) ()]\n",
      " [(6) (2) (4) (12) () () () () () () () () () () () () () () () (0) () () () (-1) () () () (-11) () () () (-6)]\n",
      " [() () () () (0) (11) (7) (12) () () () () () () () () (-11) () () () (-8) () () () (0) () () () (-2) () () ()]\n",
      " [() () () () (1) (8) (1) (8) () () () () () () () () () (-11) () () () (-8) () () () (0) () () () (-2) () ()]\n",
      " [() () () () (11) (0) (4) (8) () () () () () () () () () () (-11) () () () (-8) () () () (0) () () () (-2) ()]\n",
      " [() () () () (6) (2) (4) (12) () () () () () () () () () () () (-11) () () () (-8) () () () (0) () () () (-2)]\n",
      " [() () () () () () () () (0) (11) (7) (12) () () () () (-7) () () () (-1) () () () (-4) () () () (-4) () () ()]\n",
      " [() () () () () () () () (1) (8) (1) (8) () () () () () (-7) () () () (-1) () () () (-4) () () () (-4) () ()]\n",
      " [() () () () () () () () (11) (0) (4) (8) () () () () () () (-7) () () () (-1) () () () (-4) () () () (-4) ()]\n",
      " [() () () () () () () () (6) (2) (4) (12) () () () () () () () (-7) () () () (-1) () () () (-4) () () () (-4)]\n",
      " [() () () () () () () () () () () () (0) (11) (7) (12) (-12) () () () (-8) () () () (-8) () () () (-12) () () ()]\n",
      " [() () () () () () () () () () () () (1) (8) (1) (8) () (-12) () () () (-8) () () () (-8) () () () (-12) () ()]\n",
      " [() () () () () () () () () () () () (11) (0) (4) (8) () () (-12) () () () (-8) () () () (-8) () () () (-12) ()]\n",
      " [() () () () () () () () () () () () (6) (2) (4) (12) () () () (-12) () () () (-8) () () () (-8) () () () (-12)]]\n"
     ]
    }
   ],
   "source": [
    "from lifted_hgp import lifted_hgp\n",
    "quantum_protograph_code=lifted_hgp(lift_parameter=13,a=a1,b=a1)\n",
    "print(quantum_protograph_code.hz_proto.__compact_str__())"
   ]
  },
  {
   "cell_type": "markdown",
   "metadata": {},
   "source": [
    "Mapping the above protograph to binary gives us the `hx` component of the CSS code."
   ]
  },
  {
   "cell_type": "code",
   "execution_count": 32,
   "metadata": {},
   "outputs": [
    {
     "data": {
      "text/plain": [
       "array([[1, 0, 0, ..., 0, 0, 0],\n",
       "       [0, 1, 0, ..., 0, 0, 0],\n",
       "       [0, 0, 1, ..., 0, 0, 0],\n",
       "       ...,\n",
       "       [0, 0, 0, ..., 0, 1, 0],\n",
       "       [0, 0, 0, ..., 0, 0, 1],\n",
       "       [0, 0, 0, ..., 0, 0, 0]])"
      ]
     },
     "execution_count": 32,
     "metadata": {},
     "output_type": "execute_result"
    }
   ],
   "source": [
    "hx=quantum_protograph_code.hx_proto.to_binary(lift_parameter=13)\n",
    "hx"
   ]
  },
  {
   "cell_type": "markdown",
   "metadata": {},
   "source": [
    "Similarily for `hz`"
   ]
  },
  {
   "cell_type": "code",
   "execution_count": 33,
   "metadata": {},
   "outputs": [
    {
     "data": {
      "text/plain": [
       "array([[1, 0, 0, ..., 0, 0, 0],\n",
       "       [0, 1, 0, ..., 0, 0, 0],\n",
       "       [0, 0, 1, ..., 0, 0, 0],\n",
       "       ...,\n",
       "       [0, 0, 0, ..., 0, 1, 0],\n",
       "       [0, 0, 0, ..., 0, 0, 1],\n",
       "       [0, 0, 0, ..., 0, 0, 0]])"
      ]
     },
     "execution_count": 33,
     "metadata": {},
     "output_type": "execute_result"
    }
   ],
   "source": [
    "hz=quantum_protograph_code.hz_proto.to_binary(lift_parameter=13)\n",
    "hz"
   ]
  },
  {
   "cell_type": "markdown",
   "metadata": {},
   "source": [
    "Now, constructing a CSS code from this pair `hx` and `hz` gives the following"
   ]
  },
  {
   "cell_type": "code",
   "execution_count": 34,
   "metadata": {},
   "outputs": [
    {
     "name": "stdout",
     "output_type": "stream",
     "text": [
      "<Unnamed CSS code>, (4,8)-[[416,18,nan]]\n",
      " -Block dimensions: Pass\n",
      " -PCMs commute hz@hx.T==0: Pass\n",
      " -PCMs commute hx@hz.T==0: Pass\n",
      " -lx \\in ker{hz} AND lz \\in ker{hx}: Pass\n",
      " -lx and lz anticommute: Pass\n",
      " -<Unnamed CSS code> is a valid CSS code w/ params (4,8)-[[416,18,nan]]\n"
     ]
    },
    {
     "data": {
      "text/plain": [
       "True"
      ]
     },
     "execution_count": 34,
     "metadata": {},
     "output_type": "execute_result"
    }
   ],
   "source": [
    "qcode=css_code(hx,hz)\n",
    "qcode.test()"
   ]
  },
  {
   "cell_type": "markdown",
   "metadata": {},
   "source": [
    "Note, we can skip the above step and obtain the CSS code directly from the `lifted_hgp` object "
   ]
  },
  {
   "cell_type": "code",
   "execution_count": 35,
   "metadata": {},
   "outputs": [
    {
     "name": "stdout",
     "output_type": "stream",
     "text": [
      "<Unnamed CSS code>, (4,8)-[[416,18,nan]]\n",
      " -Block dimensions: Pass\n",
      " -PCMs commute hz@hx.T==0: Pass\n",
      " -PCMs commute hx@hz.T==0: Pass\n",
      " -lx \\in ker{hz} AND lz \\in ker{hx}: Pass\n",
      " -lx and lz anticommute: Pass\n",
      " -<Unnamed CSS code> is a valid CSS code w/ params (4,8)-[[416,18,nan]]\n"
     ]
    },
    {
     "data": {
      "text/plain": [
       "True"
      ]
     },
     "execution_count": 35,
     "metadata": {},
     "output_type": "execute_result"
    }
   ],
   "source": [
    "qcode=lifted_hgp(lift_parameter=13,a=a1,b=a1)\n",
    "qcode.test()\n"
   ]
  },
  {
   "cell_type": "markdown",
   "metadata": {},
   "source": [
    "We have now seen two examples of how a quantum code can be constructed from the [52,3,6] quasi-cyclic code:\n",
    "- Taking the hypergraph product of the code's binary parity check matrix yields a CSS code with parameters [[[5408,18,26]]]\n",
    "- Taking the lifted product of the code's protgraph yields a CSS code with [[416,18,d~20]]\n",
    "\n",
    "Note that the distance of `d~20` for the lifted product is an estimate based on the lowest weight numerically observed logical operator (more on that below). Whilst the distance of the lifted product is less than that for the hypergrap product (`d~20` vs. `d=26`), the lifted product has a much higher rate. Also, note that the lifted product above has a much higher distance than the [[400,16,6]] hypergraph product constructed from the [16,4,6] classical LDPC code. "
   ]
  },
  {
   "cell_type": "markdown",
   "metadata": {},
   "source": [
    "# Bias-tailoring\n",
    "\n",
    "Section 4 in [arXiv:2202.01702](https://arxiv.org/abs/2202.01702)\n"
   ]
  },
  {
   "cell_type": "markdown",
   "metadata": {},
   "source": [
    "## The CSS twisted toric code\n",
    "\n",
    "Section 4.2 in [arXiv:2202.01702](https://arxiv.org/abs/2202.01702)\n",
    "\n",
    "Recall that the CSS toric code can be obtained from the hypergaraph product of two repetition codes"
   ]
  },
  {
   "cell_type": "code",
   "execution_count": 36,
   "metadata": {},
   "outputs": [
    {
     "name": "stdout",
     "output_type": "stream",
     "text": [
      "<Unnamed CSS code>, (2,4)-[[12,2,2]]\n",
      " -Block dimensions: Pass\n",
      " -PCMs commute hz@hx.T==0: Pass\n",
      " -PCMs commute hx@hz.T==0: Pass\n",
      " -lx \\in ker{hz} AND lz \\in ker{hx}: Pass\n",
      " -lx and lz anticommute: Pass\n",
      " -<Unnamed CSS code> is a valid CSS code w/ params (2,4)-[[12,2,2]]\n"
     ]
    },
    {
     "data": {
      "text/plain": [
       "True"
      ]
     },
     "execution_count": 36,
     "metadata": {},
     "output_type": "execute_result"
    }
   ],
   "source": [
    "h1=ring_code(2)\n",
    "h2=ring_code(3)\n",
    "\n",
    "qcode=hgp(h1,h2,compute_distance=True)\n",
    "qcode.test()"
   ]
  },
  {
   "cell_type": "markdown",
   "metadata": {},
   "source": [
    "This code has periodic boundary conditions that link opposite sides of the lattice. The distance of this code can be increased by instead defing twisted boundary conditions. This can be achieved by taking the lifted product of two repetition code protographs:"
   ]
  },
  {
   "cell_type": "code",
   "execution_count": 37,
   "metadata": {},
   "outputs": [
    {
     "name": "stdout",
     "output_type": "stream",
     "text": [
      "Warning: computing a code distance of codes with N>10 will take a long time.\n"
     ]
    },
    {
     "name": "stderr",
     "output_type": "stream",
     "text": [
      "100%|██████████| 16383/16383 [00:00<00:00, 48147.73it/s]"
     ]
    },
    {
     "name": "stdout",
     "output_type": "stream",
     "text": [
      "<Unnamed CSS code>, (2,4)-[[12,2,3]]\n",
      " -Block dimensions: Pass\n",
      " -PCMs commute hz@hx.T==0: Pass\n",
      " -PCMs commute hx@hz.T==0: Pass\n",
      " -lx \\in ker{hz} AND lz \\in ker{hx}: Pass\n",
      " -lx and lz anticommute: Pass\n",
      " -<Unnamed CSS code> is a valid CSS code w/ params (2,4)-[[12,2,3]]\n"
     ]
    },
    {
     "name": "stderr",
     "output_type": "stream",
     "text": [
      "\n"
     ]
    },
    {
     "data": {
      "text/plain": [
       "True"
      ]
     },
     "execution_count": 37,
     "metadata": {},
     "output_type": "execute_result"
    }
   ],
   "source": [
    "L=6\n",
    "a1=pt.array([[(0,1)]])\n",
    "a2=pt.array([[(0,2)]])\n",
    "\n",
    "qcode=lifted_hgp(lift_parameter=L,a=a2,b=a1)\n",
    "qcode.compute_code_distance() #this will take some time!\n",
    "qcode.test()"
   ]
  },
  {
   "cell_type": "markdown",
   "metadata": {},
   "source": [
    "Here we see that the boundary twist has increased the code distance from `d=2` to `d=3`."
   ]
  },
  {
   "cell_type": "markdown",
   "metadata": {},
   "source": [
    "### The CSS twisted toric code under infinite-bias\n",
    "\n",
    "Now, consider the performance of the CSS twisted Toric code under X-bias. In this regime, the performance of the code depends exclusively on the `hz` component."
   ]
  },
  {
   "cell_type": "code",
   "execution_count": 38,
   "metadata": {},
   "outputs": [
    {
     "name": "stdout",
     "output_type": "stream",
     "text": [
      "Hz code distance = 3\n"
     ]
    }
   ],
   "source": [
    "h=qcode.hz\n",
    "d=compute_code_distance(h)\n",
    "print(f\"Hz code distance = {d}\")"
   ]
  },
  {
   "cell_type": "markdown",
   "metadata": {},
   "source": [
    "## The XZZX twisted toric code\n",
    "\n",
    "Section 4.5 in [arXiv:2202.01702](https://arxiv.org/abs/2202.01702)\n",
    "\n",
    "The XZZX twisted toric code is obtained from the bias-tailored lifted product of two repetition codes. It is equivalent to the CSS twisted toric code up to a Hadamard rotation on the second block of `N/2` qubits. Using our code base, an XZZX twisted toric code can be constructed as follows"
   ]
  },
  {
   "cell_type": "code",
   "execution_count": 39,
   "metadata": {},
   "outputs": [
    {
     "name": "stdout",
     "output_type": "stream",
     "text": [
      "Warning: computing a code distance of codes with N>10 will take a long time.\n"
     ]
    },
    {
     "name": "stderr",
     "output_type": "stream",
     "text": [
      "100%|██████████| 16383/16383 [00:00<00:00, 48120.62it/s]"
     ]
    },
    {
     "name": "stdout",
     "output_type": "stream",
     "text": [
      "<Unamed stabiliser code>, [[12,2,3]]\n",
      " -Block dimensions: Pass\n",
      " -PCMs commute hz@hx.T==0: Pass\n",
      " -lx and lz anticommute: Pass\n",
      "<Unamed stabiliser code> is a valid stabiliser code w/ params [[12,2,3]]\n"
     ]
    },
    {
     "name": "stderr",
     "output_type": "stream",
     "text": [
      "\n"
     ]
    },
    {
     "data": {
      "text/plain": [
       "True"
      ]
     },
     "execution_count": 39,
     "metadata": {},
     "output_type": "execute_result"
    }
   ],
   "source": [
    "from lifted_hgp import bias_tailored_lifted_product\n",
    "\n",
    "L=6\n",
    "a1=pt.array([[(0,1)]])\n",
    "a2=pt.array([[(0,2)]])\n",
    "\n",
    "qcode=bias_tailored_lifted_product(lift_parameter=L,a=a2,b=a1)\n",
    "qcode.compute_code_distance() #this will take some time!\n",
    "qcode.test()"
   ]
  },
  {
   "cell_type": "code",
   "execution_count": 40,
   "metadata": {},
   "outputs": [
    {
     "name": "stdout",
     "output_type": "stream",
     "text": [
      "[[λ() λ(-2,0)]\n",
      " [λ(0,2) λ()]]\n"
     ]
    }
   ],
   "source": [
    "print(qcode.hx_proto)"
   ]
  },
  {
   "cell_type": "markdown",
   "metadata": {},
   "source": [
    "### The XZZX twisted toric code under infinite bias\n",
    "The XZZX toric code has improved distance in the infinite-bias regime. Eg. for the case of infinite X-bias, the `hz` code distance is"
   ]
  },
  {
   "cell_type": "code",
   "execution_count": 41,
   "metadata": {},
   "outputs": [
    {
     "name": "stdout",
     "output_type": "stream",
     "text": [
      "Hz code distance = 6\n"
     ]
    }
   ],
   "source": [
    "h=qcode.hz\n",
    "d=compute_code_distance(h)\n",
    "print(f\"Hz code distance = {d}\")"
   ]
  },
  {
   "cell_type": "markdown",
   "metadata": {},
   "source": [
    "Not that this is an improvement on the infinite bias threshold of the CSS twisted toric code of the same size."
   ]
  },
  {
   "cell_type": "markdown",
   "metadata": {},
   "source": [
    "### General construction for XZZX twisted toric codes\n",
    "\n",
    "In general, we define a twisted toric code on a `n1 x n2` lattice. The parity check matrices can be obtained via the bias-tailored lifted product. "
   ]
  },
  {
   "cell_type": "code",
   "execution_count": 42,
   "metadata": {},
   "outputs": [
    {
     "name": "stdout",
     "output_type": "stream",
     "text": [
      "<Unamed stabiliser code>, [[24,2,nan]]\n",
      " -Block dimensions: Pass\n",
      " -PCMs commute hz@hx.T==0: Pass\n",
      " -lx and lz anticommute: Pass\n",
      "<Unamed stabiliser code> is a valid stabiliser code w/ params [[24,2,nan]]\n"
     ]
    },
    {
     "data": {
      "text/plain": [
       "True"
      ]
     },
     "execution_count": 42,
     "metadata": {},
     "output_type": "execute_result"
    }
   ],
   "source": [
    "from lifted_hgp import bias_tailored_lifted_product\n",
    "\n",
    "n1=4\n",
    "n2=3\n",
    "L=n1*n2\n",
    "a1=pt.array([[(0,1)]])\n",
    "a2=pt.array([[(0,n2)]])\n",
    "\n",
    "qcode=bias_tailored_lifted_product(lift_parameter=L,a=a2,b=a1)\n",
    "# qcode.compute_code_distance() #this will take some time!\n",
    "qcode.test()"
   ]
  },
  {
   "cell_type": "markdown",
   "metadata": {},
   "source": [
    "## Bias-tailored LDPC codes\n",
    "\n",
    "Section 4.6 in [arXiv:2202.01702](https://arxiv.org/abs/2202.01702)\n",
    "\n",
    "The bias-tailored lifted product can be used to create a quantum LDPC code from any pair of protographs. For example:"
   ]
  },
  {
   "cell_type": "code",
   "execution_count": 43,
   "metadata": {},
   "outputs": [
    {
     "name": "stdout",
     "output_type": "stream",
     "text": [
      "<Unamed stabiliser code>, [[416,18,nan]]\n",
      " -Block dimensions: Pass\n",
      " -PCMs commute hz@hx.T==0: Pass\n",
      " -lx and lz anticommute: Pass\n",
      "<Unamed stabiliser code> is a valid stabiliser code w/ params [[416,18,nan]]\n"
     ]
    },
    {
     "data": {
      "text/plain": [
       "True"
      ]
     },
     "execution_count": 43,
     "metadata": {},
     "output_type": "execute_result"
    }
   ],
   "source": [
    "a1=pt.array([\n",
    "        [(0), (11), (7), (12)],\n",
    "        [(1), (8), (1), (8)],\n",
    "        [(11), (0), (4), (8)],\n",
    "        [(6), (2), (4), (12)]])\n",
    "\n",
    "qcode = bias_tailored_lifted_product(lift_parameter=13,a=a1,b=a1)\n",
    "qcode.test()"
   ]
  },
  {
   "cell_type": "code",
   "execution_count": 44,
   "metadata": {},
   "outputs": [
    {
     "name": "stdout",
     "output_type": "stream",
     "text": [
      "<Unamed stabiliser code>, [[416,18,nan]]\n",
      " -Block dimensions: Pass\n",
      " -PCMs commute hz@hx.T==0: Pass\n",
      " -lx and lz anticommute: Pass\n",
      "<Unamed stabiliser code> is a valid stabiliser code w/ params [[416,18,nan]]\n"
     ]
    },
    {
     "data": {
      "text/plain": [
       "True"
      ]
     },
     "execution_count": 44,
     "metadata": {},
     "output_type": "execute_result"
    }
   ],
   "source": [
    "qcode.test()"
   ]
  },
  {
   "cell_type": "markdown",
   "metadata": {},
   "source": [
    "Now if we print the `hz` protograph, we see that it has been simplified to a set of 8 decoupled copies of original protograph `a1` (and its transpose) along the diagonal. Consequenlty, the quantum code in the infinite bias limit inherits the distance of the classical code `d=26`"
   ]
  },
  {
   "cell_type": "code",
   "execution_count": 45,
   "metadata": {},
   "outputs": [
    {
     "name": "stdout",
     "output_type": "stream",
     "text": [
      "[[(0) (11) (7) (12) () () () () () () () () () () () () () () () () () () () () () () () () () () () ()]\n",
      " [(1) (8) (1) (8) () () () () () () () () () () () () () () () () () () () () () () () () () () () ()]\n",
      " [(11) (0) (4) (8) () () () () () () () () () () () () () () () () () () () () () () () () () () () ()]\n",
      " [(6) (2) (4) (12) () () () () () () () () () () () () () () () () () () () () () () () () () () () ()]\n",
      " [() () () () (0) (11) (7) (12) () () () () () () () () () () () () () () () () () () () () () () () ()]\n",
      " [() () () () (1) (8) (1) (8) () () () () () () () () () () () () () () () () () () () () () () () ()]\n",
      " [() () () () (11) (0) (4) (8) () () () () () () () () () () () () () () () () () () () () () () () ()]\n",
      " [() () () () (6) (2) (4) (12) () () () () () () () () () () () () () () () () () () () () () () () ()]\n",
      " [() () () () () () () () (0) (11) (7) (12) () () () () () () () () () () () () () () () () () () () ()]\n",
      " [() () () () () () () () (1) (8) (1) (8) () () () () () () () () () () () () () () () () () () () ()]\n",
      " [() () () () () () () () (11) (0) (4) (8) () () () () () () () () () () () () () () () () () () () ()]\n",
      " [() () () () () () () () (6) (2) (4) (12) () () () () () () () () () () () () () () () () () () () ()]\n",
      " [() () () () () () () () () () () () (0) (11) (7) (12) () () () () () () () () () () () () () () () ()]\n",
      " [() () () () () () () () () () () () (1) (8) (1) (8) () () () () () () () () () () () () () () () ()]\n",
      " [() () () () () () () () () () () () (11) (0) (4) (8) () () () () () () () () () () () () () () () ()]\n",
      " [() () () () () () () () () () () () (6) (2) (4) (12) () () () () () () () () () () () () () () () ()]\n",
      " [() () () () () () () () () () () () () () () () (0) (-1) (-11) (-6) () () () () () () () () () () () ()]\n",
      " [() () () () () () () () () () () () () () () () (-11) (-8) (0) (-2) () () () () () () () () () () () ()]\n",
      " [() () () () () () () () () () () () () () () () (-7) (-1) (-4) (-4) () () () () () () () () () () () ()]\n",
      " [() () () () () () () () () () () () () () () () (-12) (-8) (-8) (-12) () () () () () () () () () () () ()]\n",
      " [() () () () () () () () () () () () () () () () () () () () (0) (-1) (-11) (-6) () () () () () () () ()]\n",
      " [() () () () () () () () () () () () () () () () () () () () (-11) (-8) (0) (-2) () () () () () () () ()]\n",
      " [() () () () () () () () () () () () () () () () () () () () (-7) (-1) (-4) (-4) () () () () () () () ()]\n",
      " [() () () () () () () () () () () () () () () () () () () () (-12) (-8) (-8) (-12) () () () () () () () ()]\n",
      " [() () () () () () () () () () () () () () () () () () () () () () () () (0) (-1) (-11) (-6) () () () ()]\n",
      " [() () () () () () () () () () () () () () () () () () () () () () () () (-11) (-8) (0) (-2) () () () ()]\n",
      " [() () () () () () () () () () () () () () () () () () () () () () () () (-7) (-1) (-4) (-4) () () () ()]\n",
      " [() () () () () () () () () () () () () () () () () () () () () () () () (-12) (-8) (-8) (-12) () () () ()]\n",
      " [() () () () () () () () () () () () () () () () () () () () () () () () () () () () (0) (-1) (-11) (-6)]\n",
      " [() () () () () () () () () () () () () () () () () () () () () () () () () () () () (-11) (-8) (0) (-2)]\n",
      " [() () () () () () () () () () () () () () () () () () () () () () () () () () () () (-7) (-1) (-4) (-4)]\n",
      " [() () () () () () () () () () () () () () () () () () () () () () () () () () () () (-12) (-8) (-8) (-12)]]\n"
     ]
    }
   ],
   "source": [
    "with np.printoptions(threshold=np.inf):\n",
    "    print(qcode.hz_proto.__compact_str__())"
   ]
  },
  {
   "cell_type": "markdown",
   "metadata": {},
   "source": [
    "# BP+OSD decoding of bias-tailored LDPC codes\n",
    "\n",
    "Section 5 in [arXiv:2202.01702](https://arxiv.org/abs/2202.01702). Also see Appendix D in [arXiv:2202.01702](https://arxiv.org/abs/2202.01702) for details regarding the simulation procedure."
   ]
  },
  {
   "cell_type": "markdown",
   "metadata": {},
   "source": [
    "Bias-tailored quantum LDPC codes are not CSS as they have mixed type stabilisers. However, they are equivalent to a CSS code up a Hadamard rotation on a subset of the code qubits. As a result, it is possible to simulate their decoding using a standard CSS decoder with a modified error channel. In this project, we used the belief propagation plus ordered statistics decoder from the [`BPOSD`](https://github.com/quantumgizmos/bp_osd) package. Below we show an example of a short 1000 cycle decoding simulation of a bias-tailored lifted product code under depolarising noise:"
   ]
  },
  {
   "cell_type": "code",
   "execution_count": 46,
   "metadata": {},
   "outputs": [
    {
     "name": "stdout",
     "output_type": "stream",
     "text": [
      "RNG Seed: 162338903\n",
      "Constructing CSS code from hx and hz matrices...\n",
      "Checking the CSS code is valid...\n",
      "<Unnamed CSS code>, (4,8)-[[416,18,nan]]\n",
      " -Block dimensions: Pass\n",
      " -PCMs commute hz@hx.T==0: Pass\n",
      " -PCMs commute hx@hz.T==0: Pass\n",
      " -lx \\in ker{hz} AND lz \\in ker{hx}: Pass\n",
      " -lx and lz anticommute: Pass\n",
      " -<Unnamed CSS code> is a valid CSS code w/ params (4,8)-[[416,18,nan]]\n"
     ]
    },
    {
     "name": "stderr",
     "output_type": "stream",
     "text": [
      "d_max: 52; OSDW_WER: 1.61±0.077%; OSDW: 25.4±1.4%; OSD0: 26.5±1.4%;: 100% 1000/1000 [00:42<00:00, 23.63it/s]\n"
     ]
    },
    {
     "data": {
      "text/plain": [
       "<bposd.css_decode_sim.css_decode_sim at 0x7faad8f3e190>"
      ]
     },
     "execution_count": 46,
     "metadata": {},
     "output_type": "execute_result"
    }
   ],
   "source": [
    "from bposd.css_decode_sim import css_decode_sim\n",
    "\n",
    "a1=pt.array([\n",
    "        [(0), (11), (7), (12)],\n",
    "        [(1), (8), (1), (8)],\n",
    "        [(11), (0), (4), (8)],\n",
    "        [(6), (2), (4), (12)]])\n",
    "\n",
    "qcode = lifted_hgp(lift_parameter=13,a=a1,b=a1)\n",
    "\n",
    "sim_input={\n",
    "\"error_rate\": 0.10, #the physical error rate on the qubits\n",
    "\"target_runs\": 1000, #the number of cycles to simulate\n",
    "\"bp_method\": \"minimum_sum\", #the bp method\n",
    "\"ms_scaling_factor\": 0.625, # the min-sum scaling factor\n",
    "\"osd_method\": \"osd_e\", # OSD method\n",
    "\"osd_order\": 10, #OSD order\n",
    "\"xyz_error_bias\": [1,1,1], #the relative XYZ bias\n",
    "\"hadamard_rotate\": True, #Hadamard rotate\n",
    "\"hadamard_rotate_sector1_length\": qcode.hx1.shape[1], #the length of sector 1 qubit block. All qubits in sector 2 are Hadamard rotated\n",
    "\"channel_update\": \"x->z\", # the channel update orientation\n",
    "'max_iter': int(qcode.N/10), #the interation depth for BP\n",
    "'tqdm_disable': False #show live stas\n",
    "}\n",
    "css_decode_sim(hx=qcode.hx,hz=qcode.hz,**sim_input)"
   ]
  },
  {
   "cell_type": "markdown",
   "metadata": {},
   "source": [
    "### Decoding under X-bias\n",
    "\n",
    "Below we repeat the simulation with biased X-noise."
   ]
  },
  {
   "cell_type": "code",
   "execution_count": 47,
   "metadata": {},
   "outputs": [
    {
     "name": "stdout",
     "output_type": "stream",
     "text": [
      "RNG Seed: 3583058494\n",
      "Constructing CSS code from hx and hz matrices...\n",
      "Checking the CSS code is valid...\n",
      "<Unnamed CSS code>, (4,8)-[[416,18,nan]]\n",
      " -Block dimensions: Pass\n",
      " -PCMs commute hz@hx.T==0: Pass\n",
      " -PCMs commute hx@hz.T==0: Pass\n",
      " -lx \\in ker{hz} AND lz \\in ker{hx}: Pass\n",
      " -lx and lz anticommute: Pass\n",
      " -<Unnamed CSS code> is a valid CSS code w/ params (4,8)-[[416,18,nan]]\n"
     ]
    },
    {
     "name": "stderr",
     "output_type": "stream",
     "text": [
      "d_max: 26; OSDW_WER: 0.0727±0.02%; OSDW: 1.3±0.36%; OSD0: 2.5±0.49%;: 100% 1000/1000 [00:14<00:00, 70.52it/s]    \n"
     ]
    },
    {
     "data": {
      "text/plain": [
       "<bposd.css_decode_sim.css_decode_sim at 0x7fab18f83dc0>"
      ]
     },
     "execution_count": 47,
     "metadata": {},
     "output_type": "execute_result"
    }
   ],
   "source": [
    "sim_input={\n",
    "\"error_rate\": 0.10, #the physical error rate on the qubits\n",
    "\"target_runs\": 1000, #the number of cycles to simulate\n",
    "\"bp_method\": \"minimum_sum\", #the bp method\n",
    "\"ms_scaling_factor\": 0.625, # the min-sum scaling factor\n",
    "\"osd_method\": \"osd_e\", # OSD method\n",
    "\"osd_order\": 10, #OSD order\n",
    "\"xyz_error_bias\": [10,1,1], #the relative XYZ bias\n",
    "\"hadamard_rotate\": True, #Hadamard rotate\n",
    "\"hadamard_rotate_sector1_length\": qcode.hx1.shape[1], #the length of sector 1 qubit block. All qubits in sector 2 are Hadamard rotated\n",
    "\"channel_update\": \"x->z\", # the channel update orientation\n",
    "'max_iter': int(qcode.N/10), #the interation depth for BP\n",
    "'tqdm_disable': False #show live stas\n",
    "}\n",
    "css_decode_sim(hx=qcode.hx,hz=qcode.hz,**sim_input)"
   ]
  },
  {
   "cell_type": "markdown",
   "metadata": {},
   "source": [
    "The above simulation is run under an X-biased error model where `px=10*pz=10*py`. In this regime, the word error rate is supressed by more than an order of magnitude compared to the depolarising noise simulation."
   ]
  }
 ],
 "metadata": {
  "interpreter": {
   "hash": "c00df55c54b9b596b40b790826eb03966dd1b9ea2eed7d07651f2f589855ec30"
  },
  "kernelspec": {
   "display_name": "Python 3",
   "language": "python",
   "name": "python3"
  },
  "language_info": {
   "codemirror_mode": {
    "name": "ipython",
    "version": 3
   },
   "file_extension": ".py",
   "mimetype": "text/x-python",
   "name": "python",
   "nbconvert_exporter": "python",
   "pygments_lexer": "ipython3",
   "version": "3.7.11"
  },
  "toc": {
   "base_numbering": 1,
   "nav_menu": {},
   "number_sections": true,
   "sideBar": false,
   "skip_h1_title": true,
   "title_cell": "Table of Contents",
   "title_sidebar": "Contents",
   "toc_cell": true,
   "toc_position": {
    "height": "calc(100% - 180px)",
    "left": "10px",
    "top": "150px",
    "width": "384px"
   },
   "toc_section_display": false,
   "toc_window_display": false
  }
 },
 "nbformat": 4,
 "nbformat_minor": 4
}
