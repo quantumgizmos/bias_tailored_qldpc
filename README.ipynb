{
 "cells": [
  {
   "cell_type": "markdown",
   "metadata": {},
   "source": [
    "# Bias-tailored quantum LDPC codes\n",
    "\n",
    "Decoding simulations of bias-tailored quantum LDPC codes as described in arxiv:2202:xxxx.\n",
    "\n",
    "## Setup\n",
    "The code in this repository requires functions from `LDPC` and `BPOSD`. To install, run the following command\n",
    "\n",
    "```\n",
    "pip install -U ldpc bposd\n",
    "```"
   ]
  },
  {
   "cell_type": "markdown",
   "metadata": {},
   "source": [
    "## Binary parity check matrices\n",
    "\n",
    "A binary linear code is defined by its parity check matrix. Eg. the parity check matrix for the four-bit (closed loop) repetition code is given by"
   ]
  },
  {
   "cell_type": "code",
   "execution_count": 5,
   "metadata": {},
   "outputs": [
    {
     "name": "stdout",
     "output_type": "stream",
     "text": [
      "[[1 1 0 0]\n",
      " [0 1 1 0]\n",
      " [0 0 1 1]\n",
      " [1 0 0 1]]\n"
     ]
    }
   ],
   "source": [
    "from ldpc.codes import ring_code\n",
    "\n",
    "H=ring_code(4)\n",
    "print(H)"
   ]
  },
  {
   "cell_type": "markdown",
   "metadata": {},
   "source": [
    "The code parameters of this code are [n=4,k=1,d=4] where n is the block length, k is the number of encoded bits and d is the code distance."
   ]
  },
  {
   "cell_type": "markdown",
   "metadata": {},
   "source": [
    "## Quasi-cyclic codes\n",
    "\n",
    "Quasicyclic codes are a type of classical linear code that are highly performant under BP decoding. Quasi-cyclic codes are constructed by tiling together p"
   ]
  },
  {
   "cell_type": "markdown",
   "metadata": {},
   "source": []
  }
 ],
 "metadata": {
  "interpreter": {
   "hash": "c00df55c54b9b596b40b790826eb03966dd1b9ea2eed7d07651f2f589855ec30"
  },
  "kernelspec": {
   "display_name": "Python 3.7.11 64-bit ('ldpc': conda)",
   "language": "python",
   "name": "python3"
  },
  "language_info": {
   "codemirror_mode": {
    "name": "ipython",
    "version": 3
   },
   "file_extension": ".py",
   "mimetype": "text/x-python",
   "name": "python",
   "nbconvert_exporter": "python",
   "pygments_lexer": "ipython3",
   "version": "3.7.11"
  },
  "orig_nbformat": 4
 },
 "nbformat": 4,
 "nbformat_minor": 2
}
